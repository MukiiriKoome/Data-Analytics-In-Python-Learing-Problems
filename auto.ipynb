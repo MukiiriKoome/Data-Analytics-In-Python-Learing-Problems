{
 "cells": [
  {
   "cell_type": "code",
   "execution_count": null,
   "id": "410ebe9a-0a79-4fbc-964b-a1f76c81b223",
   "metadata": {
    "editable": true,
    "slideshow": {
     "slide_type": ""
    },
    "tags": []
   },
   "outputs": [],
   "source": [
    "import pandas as pd\n",
    "import numpy as np"
   ]
  },
  {
   "cell_type": "code",
   "execution_count": null,
   "id": "7bede145-e447-43e3-9453-12f753788122",
   "metadata": {},
   "outputs": [],
   "source": [
    "filepath = \"https://cf-courses-data.s3.us.cloud-object-storage.appdomain.cloud/IBMDeveloperSkillsNetwork-DA0101EN-SkillsNetwork/labs/Data%20files/auto.csv\"\n",
    "df = pd.read_csv(filepath, header=None)"
   ]
  },
  {
   "cell_type": "code",
   "execution_count": null,
   "id": "cb6d0123-6e82-45ae-99c4-7566cfe2c491",
   "metadata": {},
   "outputs": [],
   "source": [
    "print(\"The first 5 rows of the dataframe\") \n",
    "df.head(5)"
   ]
  },
  {
   "cell_type": "code",
   "execution_count": null,
   "id": "99b30209-52f6-4d2f-a89b-d0d8a7c17c0b",
   "metadata": {},
   "outputs": [],
   "source": [
    "print(\"The last ten rows of the dataframe\\n\")\n",
    "df.tail(10)"
   ]
  },
  {
   "cell_type": "code",
   "execution_count": null,
   "id": "20642e16-d948-4eb2-b57a-c1cd1d293599",
   "metadata": {},
   "outputs": [],
   "source": [
    "# create headers list\n",
    "headers = [\"symboling\",\"normalized-losses\",\"make\",\"fuel-type\",\"aspiration\", \"num-of-doors\",\"body-style\",\n",
    "         \"drive-wheels\",\"engine-location\",\"wheel-base\", \"length\",\"width\",\"height\",\"curb-weight\",\"engine-type\",\n",
    "         \"num-of-cylinders\", \"engine-size\",\"fuel-system\",\"bore\",\"stroke\",\"compression-ratio\",\"horsepower\",\n",
    "         \"peak-rpm\",\"city-mpg\",\"highway-mpg\",\"price\"]\n",
    "df.columns = headers\n",
    "df.columns\n",
    "df.head(10)"
   ]
  },
  {
   "cell_type": "code",
   "execution_count": null,
   "id": "ca2f633d-f994-4d52-b690-a3fb9f320130",
   "metadata": {},
   "outputs": [],
   "source": [
    "# Replace the missing values in the 'price' subset indicated as '?' using numPy's NaN. This is because missung values are only recognized by pandas if they are NaN. axis=0 to drop the entire row\n",
    "df1=df.replace('?',np.NaN)\n",
    "df = df1.dropna(subset=[\"price\"], axis = 0)\n",
    "df.head(20)"
   ]
  },
  {
   "cell_type": "code",
   "execution_count": null,
   "id": "74bd0fa4-eb09-4759-b1c6-d705b99c56ed",
   "metadata": {},
   "outputs": [],
   "source": [
    "# Find the name of the columns of the dataframe\n",
    "print(df.columns)"
   ]
  },
  {
   "cell_type": "code",
   "execution_count": null,
   "id": "a9217501-b98c-47e4-b24b-1bd53c195a96",
   "metadata": {},
   "outputs": [],
   "source": [
    "# Save the dataset in a new location 'automobile.csv'.index = False to ensure the dataset is not saved with the index row\n",
    "df.to_csv(\"automobile.csv\", index=False)"
   ]
  },
  {
   "cell_type": "code",
   "execution_count": null,
   "id": "6d7a936b-50a8-471e-af4a-92d8391b5fe3",
   "metadata": {},
   "outputs": [],
   "source": [
    "# Print the data types of the entities/subsets/values of headers\n",
    "df.dtypes\n",
    "print(df.dtypes)"
   ]
  },
  {
   "cell_type": "code",
   "execution_count": null,
   "id": "399ea7d9-bbeb-4f98-97bb-1d02d849bb1c",
   "metadata": {},
   "outputs": [],
   "source": [
    "df.describe()"
   ]
  },
  {
   "cell_type": "code",
   "execution_count": null,
   "id": "5197871a-ffce-47cf-8f0e-084fa17eed89",
   "metadata": {},
   "outputs": [],
   "source": [
    "df.describe(include = \"all\")"
   ]
  },
  {
   "cell_type": "code",
   "execution_count": null,
   "id": "7c70febd-02c6-489b-8c03-9603cf327607",
   "metadata": {
    "editable": true,
    "slideshow": {
     "slide_type": ""
    },
    "tags": []
   },
   "outputs": [],
   "source": [
    "# obtaim details of a specific subset\n",
    "df[['length', 'compression-ratio']].describe()"
   ]
  },
  {
   "cell_type": "code",
   "execution_count": null,
   "id": "dcdc86c4-d570-4bb8-8527-1e619474c479",
   "metadata": {},
   "outputs": [],
   "source": [
    "df.info()"
   ]
  },
  {
   "cell_type": "code",
   "execution_count": null,
   "id": "7ad29f5a-fe01-4d86-998d-8e1a9dde9892",
   "metadata": {},
   "outputs": [],
   "source": []
  }
 ],
 "metadata": {
  "kernelspec": {
   "display_name": "Python 3 (ipykernel)",
   "language": "python",
   "name": "python3"
  },
  "language_info": {
   "codemirror_mode": {
    "name": "ipython",
    "version": 3
   },
   "file_extension": ".py",
   "mimetype": "text/x-python",
   "name": "python",
   "nbconvert_exporter": "python",
   "pygments_lexer": "ipython3",
   "version": "3.11.7"
  }
 },
 "nbformat": 4,
 "nbformat_minor": 5
}
