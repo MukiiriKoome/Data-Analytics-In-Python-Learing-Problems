{
 "cells": [
  {
   "cell_type": "code",
   "execution_count": 7,
   "id": "fc3b5ac7-349e-4b50-924d-b26673e2c057",
   "metadata": {},
   "outputs": [],
   "source": [
    "from pyodbc import connect"
   ]
  },
  {
   "cell_type": "code",
   "execution_count": null,
   "id": "6ad70c4f-f749-410d-ba11-f898da8c345f",
   "metadata": {},
   "outputs": [],
   "source": [
    "# Create a connection object\n",
    "connection = connect('databasename', 'username', 'pswd')"
   ]
  },
  {
   "cell_type": "code",
   "execution_count": null,
   "id": "b254d043-8e8b-4bf5-af51-32107a6c6d2e",
   "metadata": {},
   "outputs": [],
   "source": [
    "# Create a cursor object\n",
    "cursor = connection.cursor()"
   ]
  },
  {
   "cell_type": "code",
   "execution_count": null,
   "id": "dbdecd4d-196a-4c73-a42c-8b9632810272",
   "metadata": {},
   "outputs": [],
   "source": [
    "# Run queries\n",
    "cursor.execute(\"select * from mytable\")\n",
    "# Return the results\n",
    "result = cursor.fetchall()"
   ]
  },
  {
   "cell_type": "code",
   "execution_count": null,
   "id": "72bbe425-ddac-4197-bd4d-cbb7e2886264",
   "metadata": {
    "editable": true,
    "slideshow": {
     "slide_type": ""
    },
    "tags": []
   },
   "outputs": [],
   "source": [
    "# Free Resources\n",
    "cursor.close()\n",
    "connection.close()"
   ]
  }
 ],
 "metadata": {
  "kernelspec": {
   "display_name": "Python 3 (ipykernel)",
   "language": "python",
   "name": "python3"
  },
  "language_info": {
   "codemirror_mode": {
    "name": "ipython",
    "version": 3
   },
   "file_extension": ".py",
   "mimetype": "text/x-python",
   "name": "python",
   "nbconvert_exporter": "python",
   "pygments_lexer": "ipython3",
   "version": "3.11.7"
  },
  "widgets": {
   "application/vnd.jupyter.widget-state+json": {
    "state": {},
    "version_major": 2,
    "version_minor": 0
   }
  }
 },
 "nbformat": 4,
 "nbformat_minor": 5
}
