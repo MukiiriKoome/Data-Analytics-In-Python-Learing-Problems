{
 "cells": [
  {
   "cell_type": "code",
   "execution_count": 7,
   "id": "300bc588-276c-490c-ac63-3b1c4add8bd5",
   "metadata": {},
   "outputs": [],
   "source": [
    "import pandas as pd\n",
    "import numpy as np"
   ]
  },
  {
   "cell_type": "code",
   "execution_count": 27,
   "id": "e372a167-971e-49b4-bf64-40de5097aee8",
   "metadata": {},
   "outputs": [],
   "source": [
    "\n",
    "filepath = \"laptop_pricing_dataset_mod1.csv\"\n",
    "headers = [\"Manufacturer\", \"Category\", \"Screen\", \"GPU\", \"OS\", \"CPU_core\", \"Screen_Size_inch\", \"CPU_frequency\", \"RAM_GB\", \"Storage_GB_SSD\", \"Weight_kg\", \"Price\"]\n",
    "df = pd.read_csv(filepath, names=headers,  header=None)"
   ]
  },
  {
   "cell_type": "code",
   "execution_count": 29,
   "id": "f36e49cd-d519-471e-b8b8-b4a811eb1a85",
   "metadata": {},
   "outputs": [
    {
     "name": "stdout",
     "output_type": "stream",
     "text": [
      "     Manufacturer  Category     Screen  GPU  OS  CPU_core Screen_Size_inch  \\\n",
      "NaN  Manufacturer  Category     Screen  GPU  OS  CPU_core   Screen_Size_cm   \n",
      "0.0          Acer         4  IPS Panel    2   1         5            35.56   \n",
      "1.0          Dell         3    Full HD    1   1         3           39.624   \n",
      "2.0          Dell         3    Full HD    1   1         7           39.624   \n",
      "3.0          Dell         4  IPS Panel    2   1         5           33.782   \n",
      "\n",
      "     CPU_frequency  RAM_GB  Storage_GB_SSD  Weight_kg  Price  \n",
      "NaN  CPU_frequency  RAM_GB  Storage_GB_SSD  Weight_kg  Price  \n",
      "0.0            1.6       8             256        1.6    978  \n",
      "1.0            2.0       4             256        2.2    634  \n",
      "2.0            2.7       8             256        2.2    946  \n",
      "3.0            1.6       8             128       1.22   1244  \n"
     ]
    }
   ],
   "source": [
    "print(df.head())"
   ]
  },
  {
   "cell_type": "code",
   "execution_count": 31,
   "id": "6061c99f-c706-43ca-9e32-a298a769e4fc",
   "metadata": {},
   "outputs": [],
   "source": [
    "# df.columns = headers\n",
    "# print(df.head(10))"
   ]
  },
  {
   "cell_type": "code",
   "execution_count": 33,
   "id": "83385dcd-e199-419d-84db-d72d2c71a378",
   "metadata": {},
   "outputs": [],
   "source": [
    "df.replace('?', np.NaN, inplace = True)"
   ]
  },
  {
   "cell_type": "code",
   "execution_count": 35,
   "id": "47537123-ec55-4dd3-8c04-c5404e47ba96",
   "metadata": {},
   "outputs": [
    {
     "name": "stdout",
     "output_type": "stream",
     "text": [
      "Manufacturer        object\n",
      "Category            object\n",
      "Screen              object\n",
      "GPU                 object\n",
      "OS                  object\n",
      "CPU_core            object\n",
      "Screen_Size_inch    object\n",
      "CPU_frequency       object\n",
      "RAM_GB              object\n",
      "Storage_GB_SSD      object\n",
      "Weight_kg           object\n",
      "Price               object\n",
      "dtype: object\n"
     ]
    }
   ],
   "source": [
    "print(df.dtypes)"
   ]
  },
  {
   "cell_type": "code",
   "execution_count": 21,
   "id": "ac46040f-ab01-4d0b-8070-ac8a51a0007f",
   "metadata": {},
   "outputs": [
    {
     "name": "stdout",
     "output_type": "stream",
     "text": [
      "                0     1    2        3    4    5    6       7    8    9    10  \\\n",
      "count   238.000000   239  239      239  239  239  239     235  239  239  239   \n",
      "unique         NaN    12    6        3    4    3    4      10   12    6    3   \n",
      "top            NaN  Dell    3  Full HD    2    1    5  39.624  2.5    8  256   \n",
      "freq           NaN    71  154      161  136  224  123      89   71  184  219   \n",
      "mean    118.500000   NaN  NaN      NaN  NaN  NaN  NaN     NaN  NaN  NaN  NaN   \n",
      "std      68.848868   NaN  NaN      NaN  NaN  NaN  NaN     NaN  NaN  NaN  NaN   \n",
      "min       0.000000   NaN  NaN      NaN  NaN  NaN  NaN     NaN  NaN  NaN  NaN   \n",
      "25%      59.250000   NaN  NaN      NaN  NaN  NaN  NaN     NaN  NaN  NaN  NaN   \n",
      "50%     118.500000   NaN  NaN      NaN  NaN  NaN  NaN     NaN  NaN  NaN  NaN   \n",
      "75%     177.750000   NaN  NaN      NaN  NaN  NaN  NaN     NaN  NaN  NaN  NaN   \n",
      "max     237.000000   NaN  NaN      NaN  NaN  NaN  NaN     NaN  NaN  NaN  NaN   \n",
      "\n",
      "         11    12  \n",
      "count   234   239  \n",
      "unique   78   194  \n",
      "top     2.2  1396  \n",
      "freq     21     4  \n",
      "mean    NaN   NaN  \n",
      "std     NaN   NaN  \n",
      "min     NaN   NaN  \n",
      "25%     NaN   NaN  \n",
      "50%     NaN   NaN  \n",
      "75%     NaN   NaN  \n",
      "max     NaN   NaN  \n"
     ]
    }
   ],
   "source": [
    "print(df.describe(include = 'all'))"
   ]
  },
  {
   "cell_type": "code",
   "execution_count": 23,
   "id": "0a199cc2-d1ab-44e2-80f2-fe67f6b6e074",
   "metadata": {},
   "outputs": [
    {
     "name": "stdout",
     "output_type": "stream",
     "text": [
      "<class 'pandas.core.frame.DataFrame'>\n",
      "RangeIndex: 239 entries, 0 to 238\n",
      "Data columns (total 13 columns):\n",
      " #   Column  Non-Null Count  Dtype  \n",
      "---  ------  --------------  -----  \n",
      " 0   0       238 non-null    float64\n",
      " 1   1       239 non-null    object \n",
      " 2   2       239 non-null    object \n",
      " 3   3       239 non-null    object \n",
      " 4   4       239 non-null    object \n",
      " 5   5       239 non-null    object \n",
      " 6   6       239 non-null    object \n",
      " 7   7       235 non-null    object \n",
      " 8   8       239 non-null    object \n",
      " 9   9       239 non-null    object \n",
      " 10  10      239 non-null    object \n",
      " 11  11      234 non-null    object \n",
      " 12  12      239 non-null    object \n",
      "dtypes: float64(1), object(12)\n",
      "memory usage: 24.4+ KB\n",
      "None\n"
     ]
    }
   ],
   "source": [
    "print(df.info())"
   ]
  },
  {
   "cell_type": "code",
   "execution_count": null,
   "id": "fbb9309a-5049-4568-b0db-04607f8b4936",
   "metadata": {
    "editable": true,
    "slideshow": {
     "slide_type": ""
    },
    "tags": []
   },
   "outputs": [],
   "source": []
  }
 ],
 "metadata": {
  "kernelspec": {
   "display_name": "Python 3 (ipykernel)",
   "language": "python",
   "name": "python3"
  },
  "language_info": {
   "codemirror_mode": {
    "name": "ipython",
    "version": 3
   },
   "file_extension": ".py",
   "mimetype": "text/x-python",
   "name": "python",
   "nbconvert_exporter": "python",
   "pygments_lexer": "ipython3",
   "version": "3.11.7"
  },
  "widgets": {
   "application/vnd.jupyter.widget-state+json": {
    "state": {},
    "version_major": 2,
    "version_minor": 0
   }
  }
 },
 "nbformat": 4,
 "nbformat_minor": 5
}
