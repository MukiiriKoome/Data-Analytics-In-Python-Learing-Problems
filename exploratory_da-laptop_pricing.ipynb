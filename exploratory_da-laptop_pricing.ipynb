{
 "cells": [
  {
   "cell_type": "code",
   "execution_count": null,
   "id": "f493266e-2a0a-44fe-82c9-e39b5f0d9433",
   "metadata": {},
   "outputs": [],
   "source": [
    "import pandas as pd\n",
    "from PIL import Image\n",
    "import numpy as np\n",
    "import seaborn as sns\n",
    "import matplotlib.pyplot as plt\n",
    "%matplotlib inline "
   ]
  },
  {
   "cell_type": "code",
   "execution_count": null,
   "id": "4d18b012-14a2-4784-8abf-6cd889c61e46",
   "metadata": {},
   "outputs": [],
   "source": [
    "file_name=\"laptops.csv\"\n",
    "df = pd.read_csv(file_name, header=0)"
   ]
  },
  {
   "cell_type": "code",
   "execution_count": null,
   "id": "0f5523bf-a86e-4b07-ab95-3077ea194360",
   "metadata": {},
   "outputs": [],
   "source": [
    "df.head(5)"
   ]
  },
  {
   "cell_type": "code",
   "execution_count": null,
   "id": "7f513ab7-0e2a-4bc7-88de-a8fb09411d3f",
   "metadata": {},
   "outputs": [],
   "source": [
    "sns.regplot(x=\"CPU_frequency\", y=\"Price\",data = df)\n",
    "plt.ylim(0,)"
   ]
  },
  {
   "cell_type": "code",
   "execution_count": null,
   "id": "9d5dc27a-a02d-4474-bd8d-a8cf01295d28",
   "metadata": {},
   "outputs": [],
   "source": [
    "sns.regplot(x=\"Screen_Size_inch\", y=\"Price\", data=df)\n",
    "plt.ylim(0,)\n",
    "plt.title(\"Screen_Size_inch regression plot\")"
   ]
  },
  {
   "cell_type": "code",
   "execution_count": null,
   "id": "d831385f-8963-452a-a7a0-580ac8072c77",
   "metadata": {},
   "outputs": [],
   "source": [
    "sns.regplot(x=\"Weight_pounds\", y=\"Price\", data=df)\n",
    "plt.ylim(0,)"
   ]
  },
  {
   "cell_type": "code",
   "execution_count": null,
   "id": "75a8967e-2fc1-4be4-a873-4dbd3a748363",
   "metadata": {},
   "outputs": [],
   "source": [
    "for parameter in [\"CPU_frequency\",\"Screen_Size_inch\", \"Weight_pounds\"]:\n",
    "    print(f\"The correlation of price and {parameter} is:\", df[[parameter,\"Price\"]].corr())\n",
    "df[[\"CPU_frequency\",\"Screen_Size_inch\", \"Weight_pounds\", \"Price\"]].corr()"
   ]
  },
  {
   "cell_type": "code",
   "execution_count": null,
   "id": "2e3e2d48-e21f-40cb-912e-3a2ea9af1fd0",
   "metadata": {},
   "outputs": [],
   "source": [
    "# Category Box plot\n",
    "sns.boxplot(x=\"Category\",y=\"Price\",data=df)"
   ]
  },
  {
   "cell_type": "code",
   "execution_count": null,
   "id": "7f12f8de-873c-403c-bd84-0bf479c45717",
   "metadata": {},
   "outputs": [],
   "source": [
    "sns.boxplot(x=\"GPU\", y=\"Price\", data=df)"
   ]
  },
  {
   "cell_type": "code",
   "execution_count": null,
   "id": "3ae056bc-0afd-47c8-a060-f38b518b195c",
   "metadata": {},
   "outputs": [],
   "source": [
    "# OS Box plot\n",
    "sns.boxplot(x=\"OS\", y=\"Price\", data=df)"
   ]
  },
  {
   "cell_type": "code",
   "execution_count": null,
   "id": "060fdbff-a303-40d7-a918-9102ab894fe7",
   "metadata": {},
   "outputs": [],
   "source": [
    "# CPU_core Box plot\n",
    "sns.boxplot(x=\"CPU_core\", y=\"Price\", data=df)"
   ]
  },
  {
   "cell_type": "code",
   "execution_count": null,
   "id": "dd8683a8-b858-40a4-adc2-216f92563556",
   "metadata": {},
   "outputs": [],
   "source": [
    "# RAM_GB Box plot\n",
    "sns.boxplot(x=\"RAM_GB\", y=\"Price\", data=df)"
   ]
  },
  {
   "cell_type": "code",
   "execution_count": null,
   "id": "198827e5-002e-41a2-a1b9-60bad29d51b0",
   "metadata": {},
   "outputs": [],
   "source": [
    "# Storage_GB_SSD Box plot\n",
    "sns.boxplot(x=\"Storage_GB_SSD\", y=\"Price\", data=df)"
   ]
  },
  {
   "cell_type": "code",
   "execution_count": null,
   "id": "70a13f5c-6752-4e15-b868-1a9e65069e76",
   "metadata": {},
   "outputs": [],
   "source": [
    "df.describe(include = 'all')"
   ]
  },
  {
   "cell_type": "code",
   "execution_count": null,
   "id": "361990c7-6fe8-499c-b66e-b330069af9f6",
   "metadata": {},
   "outputs": [],
   "source": [
    "# Create the group\n",
    "group_custom = df[[\"GPU\", \"CPU_core\", \"Price\"]]\n",
    "groupby = group_custom.groupby([\"GPU\", \"CPU_core\"], as_index = False).mean()\n",
    "groupby"
   ]
  },
  {
   "cell_type": "code",
   "execution_count": null,
   "id": "4f5642f5-d80d-4fb0-9f4a-2f4f434d62c6",
   "metadata": {},
   "outputs": [],
   "source": [
    "# Create the Pivot table\n",
    "groupby_pivot = groupby.pivot(index=\"GPU\", columns=\"CPU_core\")\n",
    "groupby_pivot"
   ]
  },
  {
   "cell_type": "code",
   "execution_count": null,
   "id": "dd9b3bea-6428-4097-b0f5-079ddf5f24b3",
   "metadata": {},
   "outputs": [],
   "source": [
    "plt.pcolor(groupby_pivot, cmap=\"RdBu\")\n",
    "plt.colorbar()\n",
    "plt.show()"
   ]
  },
  {
   "cell_type": "code",
   "execution_count": null,
   "id": "6db60d42-09e3-4e8b-ac85-7e6f5bd4c854",
   "metadata": {},
   "outputs": [],
   "source": [
    "pearson_coeff, p_value = scipy.stats.pearsonr(df[\"GPU\"],df[\"Price\"])"
   ]
  }
 ],
 "metadata": {
  "kernelspec": {
   "display_name": "Python 3 (ipykernel)",
   "language": "python",
   "name": "python3"
  },
  "language_info": {
   "codemirror_mode": {
    "name": "ipython",
    "version": 3
   },
   "file_extension": ".py",
   "mimetype": "text/x-python",
   "name": "python",
   "nbconvert_exporter": "python",
   "pygments_lexer": "ipython3",
   "version": "3.11.7"
  },
  "widgets": {
   "application/vnd.jupyter.widget-state+json": {
    "state": {},
    "version_major": 2,
    "version_minor": 0
   }
  }
 },
 "nbformat": 4,
 "nbformat_minor": 5
}
